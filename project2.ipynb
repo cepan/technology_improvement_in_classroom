{
 "cells": [
  {
   "cell_type": "markdown",
   "metadata": {},
   "source": [
    "# MATH 189 Project 2\n",
    "## Group 2, Winter 2021\n",
    "\n",
    "Members:\n",
    "- Kasen Teoh\n",
    "- Chung En Pan\n",
    "- Nathan Fallahi\n",
    "- Shaheen Daneshvar\n",
    "- Parsa Ganjooi\n",
    "- Eamon Jarrett-Mann"
   ]
  },
  {
   "cell_type": "markdown",
   "metadata": {},
   "source": [
    "# Introduction"
   ]
  },
  {
   "cell_type": "markdown",
   "metadata": {},
   "source": [
    "# Data"
   ]
  },
  {
   "cell_type": "code",
   "execution_count": 6,
   "metadata": {},
   "outputs": [],
   "source": [
    "# imports and setup\n",
    "import matplotlib.pyplot as plt\n",
    "import numpy as np\n",
    "import pandas as pd\n",
    "import seaborn as sns"
   ]
  },
  {
   "cell_type": "code",
   "execution_count": 7,
   "metadata": {},
   "outputs": [],
   "source": [
    "# load the data and take a look\n",
    "df = pd.read_csv('video.txt', sep='\\\\s+')\n",
    "df2 = pd.read_csv('videoMultiple.txt', sep = '\\\\s+')"
   ]
  },
  {
   "cell_type": "markdown",
   "metadata": {},
   "source": [
    "* Time: number of hours played in the prior week (in the smaller dataset)\n",
    "* Like (to play): 1-never played, 2-very much, 3-somewhat, 4-not really, 5-not at all\n",
    "* Where (to play): 1-arcade, 2-home system, 3-home computer, 4-arcade and one other, 5- home computer and system, 6-all three\n",
    "* freq: 1-daily, 2-weekly, 3-monthly, 4-semesterly\n",
    "* (Play if) busy: 1-yes, 0-no\n",
    "* (think playing is) educ(ational):  1-yes, 0-no\n",
    "* Sex:  1-male, 0-female\n",
    "* Age: in years\n",
    "* home:  has a computer at home 1-yes, 0-no\n",
    "* (hate) math:  1-yes, 0-no\n",
    "* work: number of hours worked in the prior week\n",
    "* own (PC):  1-yes, 0-no\n",
    "* (PC has) cd-rom:  1-yes, 0-no\n",
    "* (have) email:  1-yes, 0-no\n",
    "* grade (expected): 4-A, 3-B, 2-C, 1-D, 0-F\n",
    "* action: plays action games\n",
    "* adv: plays adventure games\n",
    "* sim: plays simulation games\n",
    "* sport: plays sport games\n",
    "* strategy: plays strategy games\n",
    "* relax: plays games to relax\n",
    "* coord: plays games for hand/eye coordination\n",
    "* challenge: plays games to challenge themselves\n",
    "* master: plays games for the feeling of mastery\n",
    "* bored: plays games because they are bored\n",
    "* other: plays games for another reason (fitb)\n",
    "* graphic: plays games for the graphics\n",
    "* frust: dislikes games because they are frustrating\n",
    "* lonely: dislikes games because they are lonely\n",
    "* time: dislikes games because they are a waste of time (larger dataset)\n",
    "* rules: dislikes games because there are too many rules\n",
    "* cost: dislikes games because they cost too much\n",
    "* boring: dislikes games because they are boring\n",
    "* friends: dislikes games because their friends do not play\n",
    "* point: dislikes games because they think it is pointless\n",
    "* other2: dislikes games for some other reason (fitb)\n",
    "\n",
    "Clearly, Time, Work and Age are continuous, while every other variable is discrete. The other variables (other & other2) are fill in the blank, not really continuous or discrete, just text."
   ]
  },
  {
   "cell_type": "code",
   "execution_count": null,
   "metadata": {},
   "outputs": [],
   "source": []
  },
  {
   "cell_type": "markdown",
   "metadata": {},
   "source": [
    "# Background"
   ]
  },
  {
   "cell_type": "markdown",
   "metadata": {},
   "source": [
    "# Investigation\n",
    "How can we use this survey to inform the design of the new computer lab?"
   ]
  },
  {
   "cell_type": "markdown",
   "metadata": {},
   "source": [
    "1. Begin by providing an estimate for the fraction of students who played a video game in the week prior to the survey. Provide an interval estimate as well as a point estimate for this proportion. Eamon"
   ]
  },
  {
   "cell_type": "code",
   "execution_count": 8,
   "metadata": {},
   "outputs": [
    {
     "name": "stdout",
     "output_type": "stream",
     "text": [
      "point estimate: 0.37362637362637363\n",
      "interval estimate: (0.37181657702088866, 0.3754361702318586)\n"
     ]
    }
   ],
   "source": [
    "from statsmodels.stats.proportion import proportion_confint\n",
    "expec = (len(df) - sum(df.time == 0)) / len(df) \n",
    "var = (expec * (1 - expec)/(len(df) - 1)) * ((314 - len(df))/(314))\n",
    "std = var ** 1/2\n",
    "interval_est = ( expec - ( 1.96 * std ), expec + ( 1.96 * std ))\n",
    "print(\"point estimate: \" + str(expec) + \"\\ninterval estimate: \" + str(interval_est))"
   ]
  },
  {
   "cell_type": "markdown",
   "metadata": {},
   "source": [
    "2. Check to see how the amount of time spent playing the video games in the week prior to the survey compares the reported frequency of play. How might the fact that there was an exam in the week prior to the survey affect your previous estimates and this comparison? Parsa"
   ]
  },
  {
   "cell_type": "markdown",
   "metadata": {},
   "source": [
    "3. Consider making an interval estimate (confidence interval) for the average amount of time spent playing video games in the week prior to the survey. Keep in mind the overall shape of the sample distribution. A simulation study may help determine the appropriateness of an interval estimate. Kasen"
   ]
  },
  {
   "cell_type": "markdown",
   "metadata": {},
   "source": [
    "4. Next consider the “attitude” questions. In general, do you think the students enjoy playing video games? If you had to make a short list of the most important reasons why students like/dislike video games, what would you put on the list>? Don’t forget that those students who say that they have never played video games or do not at all like video games are asked to skip over some of these questions. So, there may be many nonrespondents to the question as to whether they think video games are educational, where they play video games, etc. Kasen"
   ]
  },
  {
   "cell_type": "markdown",
   "metadata": {},
   "source": [
    "5. Look for the differences between those who like to play video games and those who don’t. To do this, use the questions in the last part of the survey, and make comparisons between male and female students, those who work for pay and this who don’t , those who own a computer and those who don’t. Graphical display and cross-tabulations are particularly helpful in making these kinds of comparisons. Also, you may want to collapse the range of responses to a question down to two or three possibilities before making these comparisons. Shawn"
   ]
  },
  {
   "cell_type": "markdown",
   "metadata": {},
   "source": [
    "6. (optional) Just for fun, further investigate the grade that students expect in the course. How does it match the target use in grade assignment of 20%A’s, 30% B’s, 40% C’s and 10% D or lower? If the nonrespondents were failing students who no longer bothered to come to the discussion section, would this change the picture? Nathan\n"
   ]
  },
  {
   "cell_type": "markdown",
   "metadata": {},
   "source": [
    "7. Additional questions"
   ]
  },
  {
   "cell_type": "code",
   "execution_count": 9,
   "metadata": {},
   "outputs": [
    {
     "data": {
      "text/html": [
       "<div>\n",
       "<style scoped>\n",
       "    .dataframe tbody tr th:only-of-type {\n",
       "        vertical-align: middle;\n",
       "    }\n",
       "\n",
       "    .dataframe tbody tr th {\n",
       "        vertical-align: top;\n",
       "    }\n",
       "\n",
       "    .dataframe thead th {\n",
       "        text-align: right;\n",
       "    }\n",
       "</style>\n",
       "<table border=\"1\" class=\"dataframe\">\n",
       "  <thead>\n",
       "    <tr style=\"text-align: right;\">\n",
       "      <th></th>\n",
       "      <th>action</th>\n",
       "      <th>adv</th>\n",
       "      <th>sim</th>\n",
       "      <th>sport</th>\n",
       "      <th>strategy</th>\n",
       "      <th>relax</th>\n",
       "      <th>coord</th>\n",
       "      <th>challenge</th>\n",
       "      <th>master</th>\n",
       "      <th>bored</th>\n",
       "      <th>...</th>\n",
       "      <th>educ</th>\n",
       "      <th>sex</th>\n",
       "      <th>age</th>\n",
       "      <th>home</th>\n",
       "      <th>math</th>\n",
       "      <th>work</th>\n",
       "      <th>own</th>\n",
       "      <th>cdrom</th>\n",
       "      <th>email</th>\n",
       "      <th>grade</th>\n",
       "    </tr>\n",
       "  </thead>\n",
       "  <tbody>\n",
       "    <tr>\n",
       "      <td>0</td>\n",
       "      <td>0.0</td>\n",
       "      <td>0.0</td>\n",
       "      <td>0.0</td>\n",
       "      <td>0.0</td>\n",
       "      <td>1.0</td>\n",
       "      <td>1.0</td>\n",
       "      <td>0.0</td>\n",
       "      <td>1.0</td>\n",
       "      <td>1.0</td>\n",
       "      <td>0.0</td>\n",
       "      <td>...</td>\n",
       "      <td>1</td>\n",
       "      <td>0</td>\n",
       "      <td>19</td>\n",
       "      <td>1</td>\n",
       "      <td>0</td>\n",
       "      <td>10</td>\n",
       "      <td>1</td>\n",
       "      <td>0</td>\n",
       "      <td>1</td>\n",
       "      <td>4</td>\n",
       "    </tr>\n",
       "    <tr>\n",
       "      <td>1</td>\n",
       "      <td>0.0</td>\n",
       "      <td>1.0</td>\n",
       "      <td>0.0</td>\n",
       "      <td>0.0</td>\n",
       "      <td>1.0</td>\n",
       "      <td>0.0</td>\n",
       "      <td>0.0</td>\n",
       "      <td>0.0</td>\n",
       "      <td>0.0</td>\n",
       "      <td>1.0</td>\n",
       "      <td>...</td>\n",
       "      <td>0</td>\n",
       "      <td>0</td>\n",
       "      <td>18</td>\n",
       "      <td>1</td>\n",
       "      <td>1</td>\n",
       "      <td>0</td>\n",
       "      <td>1</td>\n",
       "      <td>1</td>\n",
       "      <td>1</td>\n",
       "      <td>2</td>\n",
       "    </tr>\n",
       "    <tr>\n",
       "      <td>2</td>\n",
       "      <td>1.0</td>\n",
       "      <td>0.0</td>\n",
       "      <td>0.0</td>\n",
       "      <td>1.0</td>\n",
       "      <td>1.0</td>\n",
       "      <td>1.0</td>\n",
       "      <td>0.0</td>\n",
       "      <td>0.0</td>\n",
       "      <td>0.0</td>\n",
       "      <td>0.0</td>\n",
       "      <td>...</td>\n",
       "      <td>0</td>\n",
       "      <td>1</td>\n",
       "      <td>19</td>\n",
       "      <td>1</td>\n",
       "      <td>0</td>\n",
       "      <td>0</td>\n",
       "      <td>1</td>\n",
       "      <td>0</td>\n",
       "      <td>1</td>\n",
       "      <td>3</td>\n",
       "    </tr>\n",
       "    <tr>\n",
       "      <td>3</td>\n",
       "      <td>0.0</td>\n",
       "      <td>0.0</td>\n",
       "      <td>0.0</td>\n",
       "      <td>0.0</td>\n",
       "      <td>1.0</td>\n",
       "      <td>0.0</td>\n",
       "      <td>0.0</td>\n",
       "      <td>1.0</td>\n",
       "      <td>0.0</td>\n",
       "      <td>0.0</td>\n",
       "      <td>...</td>\n",
       "      <td>1</td>\n",
       "      <td>0</td>\n",
       "      <td>19</td>\n",
       "      <td>1</td>\n",
       "      <td>0</td>\n",
       "      <td>0</td>\n",
       "      <td>1</td>\n",
       "      <td>0</td>\n",
       "      <td>1</td>\n",
       "      <td>3</td>\n",
       "    </tr>\n",
       "    <tr>\n",
       "      <td>4</td>\n",
       "      <td>0.0</td>\n",
       "      <td>0.0</td>\n",
       "      <td>0.0</td>\n",
       "      <td>0.0</td>\n",
       "      <td>1.0</td>\n",
       "      <td>1.0</td>\n",
       "      <td>0.0</td>\n",
       "      <td>1.0</td>\n",
       "      <td>1.0</td>\n",
       "      <td>0.0</td>\n",
       "      <td>...</td>\n",
       "      <td>1</td>\n",
       "      <td>0</td>\n",
       "      <td>19</td>\n",
       "      <td>1</td>\n",
       "      <td>1</td>\n",
       "      <td>0</td>\n",
       "      <td>0</td>\n",
       "      <td>0</td>\n",
       "      <td>1</td>\n",
       "      <td>3</td>\n",
       "    </tr>\n",
       "    <tr>\n",
       "      <td>...</td>\n",
       "      <td>...</td>\n",
       "      <td>...</td>\n",
       "      <td>...</td>\n",
       "      <td>...</td>\n",
       "      <td>...</td>\n",
       "      <td>...</td>\n",
       "      <td>...</td>\n",
       "      <td>...</td>\n",
       "      <td>...</td>\n",
       "      <td>...</td>\n",
       "      <td>...</td>\n",
       "      <td>...</td>\n",
       "      <td>...</td>\n",
       "      <td>...</td>\n",
       "      <td>...</td>\n",
       "      <td>...</td>\n",
       "      <td>...</td>\n",
       "      <td>...</td>\n",
       "      <td>...</td>\n",
       "      <td>...</td>\n",
       "      <td>...</td>\n",
       "    </tr>\n",
       "    <tr>\n",
       "      <td>86</td>\n",
       "      <td>0.0</td>\n",
       "      <td>0.0</td>\n",
       "      <td>0.0</td>\n",
       "      <td>1.0</td>\n",
       "      <td>0.0</td>\n",
       "      <td>0.0</td>\n",
       "      <td>0.0</td>\n",
       "      <td>0.0</td>\n",
       "      <td>0.0</td>\n",
       "      <td>0.0</td>\n",
       "      <td>...</td>\n",
       "      <td>0</td>\n",
       "      <td>1</td>\n",
       "      <td>19</td>\n",
       "      <td>1</td>\n",
       "      <td>0</td>\n",
       "      <td>0</td>\n",
       "      <td>1</td>\n",
       "      <td>99</td>\n",
       "      <td>1</td>\n",
       "      <td>4</td>\n",
       "    </tr>\n",
       "    <tr>\n",
       "      <td>87</td>\n",
       "      <td>1.0</td>\n",
       "      <td>1.0</td>\n",
       "      <td>0.0</td>\n",
       "      <td>0.0</td>\n",
       "      <td>1.0</td>\n",
       "      <td>1.0</td>\n",
       "      <td>0.0</td>\n",
       "      <td>1.0</td>\n",
       "      <td>1.0</td>\n",
       "      <td>0.0</td>\n",
       "      <td>...</td>\n",
       "      <td>1</td>\n",
       "      <td>0</td>\n",
       "      <td>20</td>\n",
       "      <td>1</td>\n",
       "      <td>0</td>\n",
       "      <td>14</td>\n",
       "      <td>1</td>\n",
       "      <td>1</td>\n",
       "      <td>1</td>\n",
       "      <td>4</td>\n",
       "    </tr>\n",
       "    <tr>\n",
       "      <td>88</td>\n",
       "      <td>1.0</td>\n",
       "      <td>0.0</td>\n",
       "      <td>1.0</td>\n",
       "      <td>0.0</td>\n",
       "      <td>0.0</td>\n",
       "      <td>1.0</td>\n",
       "      <td>1.0</td>\n",
       "      <td>0.0</td>\n",
       "      <td>0.0</td>\n",
       "      <td>0.0</td>\n",
       "      <td>...</td>\n",
       "      <td>1</td>\n",
       "      <td>0</td>\n",
       "      <td>33</td>\n",
       "      <td>1</td>\n",
       "      <td>0</td>\n",
       "      <td>40</td>\n",
       "      <td>1</td>\n",
       "      <td>0</td>\n",
       "      <td>0</td>\n",
       "      <td>2</td>\n",
       "    </tr>\n",
       "    <tr>\n",
       "      <td>89</td>\n",
       "      <td>0.0</td>\n",
       "      <td>0.0</td>\n",
       "      <td>0.0</td>\n",
       "      <td>1.0</td>\n",
       "      <td>0.0</td>\n",
       "      <td>0.0</td>\n",
       "      <td>0.0</td>\n",
       "      <td>0.0</td>\n",
       "      <td>0.0</td>\n",
       "      <td>1.0</td>\n",
       "      <td>...</td>\n",
       "      <td>0</td>\n",
       "      <td>1</td>\n",
       "      <td>19</td>\n",
       "      <td>1</td>\n",
       "      <td>0</td>\n",
       "      <td>5</td>\n",
       "      <td>1</td>\n",
       "      <td>1</td>\n",
       "      <td>1</td>\n",
       "      <td>3</td>\n",
       "    </tr>\n",
       "    <tr>\n",
       "      <td>90</td>\n",
       "      <td>1.0</td>\n",
       "      <td>0.0</td>\n",
       "      <td>0.0</td>\n",
       "      <td>0.0</td>\n",
       "      <td>1.0</td>\n",
       "      <td>1.0</td>\n",
       "      <td>0.0</td>\n",
       "      <td>1.0</td>\n",
       "      <td>0.0</td>\n",
       "      <td>0.0</td>\n",
       "      <td>...</td>\n",
       "      <td>1</td>\n",
       "      <td>0</td>\n",
       "      <td>19</td>\n",
       "      <td>0</td>\n",
       "      <td>1</td>\n",
       "      <td>5</td>\n",
       "      <td>1</td>\n",
       "      <td>0</td>\n",
       "      <td>1</td>\n",
       "      <td>2</td>\n",
       "    </tr>\n",
       "  </tbody>\n",
       "</table>\n",
       "<p>91 rows × 36 columns</p>\n",
       "</div>"
      ],
      "text/plain": [
       "    action  adv  sim  sport  strategy  relax  coord  challenge  master  bored  \\\n",
       "0      0.0  0.0  0.0    0.0       1.0    1.0    0.0        1.0     1.0    0.0   \n",
       "1      0.0  1.0  0.0    0.0       1.0    0.0    0.0        0.0     0.0    1.0   \n",
       "2      1.0  0.0  0.0    1.0       1.0    1.0    0.0        0.0     0.0    0.0   \n",
       "3      0.0  0.0  0.0    0.0       1.0    0.0    0.0        1.0     0.0    0.0   \n",
       "4      0.0  0.0  0.0    0.0       1.0    1.0    0.0        1.0     1.0    0.0   \n",
       "..     ...  ...  ...    ...       ...    ...    ...        ...     ...    ...   \n",
       "86     0.0  0.0  0.0    1.0       0.0    0.0    0.0        0.0     0.0    0.0   \n",
       "87     1.0  1.0  0.0    0.0       1.0    1.0    0.0        1.0     1.0    0.0   \n",
       "88     1.0  0.0  1.0    0.0       0.0    1.0    1.0        0.0     0.0    0.0   \n",
       "89     0.0  0.0  0.0    1.0       0.0    0.0    0.0        0.0     0.0    1.0   \n",
       "90     1.0  0.0  0.0    0.0       1.0    1.0    0.0        1.0     0.0    0.0   \n",
       "\n",
       "    ... educ  sex  age  home  math  work  own  cdrom  email  grade  \n",
       "0   ...    1    0   19     1     0    10    1      0      1      4  \n",
       "1   ...    0    0   18     1     1     0    1      1      1      2  \n",
       "2   ...    0    1   19     1     0     0    1      0      1      3  \n",
       "3   ...    1    0   19     1     0     0    1      0      1      3  \n",
       "4   ...    1    0   19     1     1     0    0      0      1      3  \n",
       "..  ...  ...  ...  ...   ...   ...   ...  ...    ...    ...    ...  \n",
       "86  ...    0    1   19     1     0     0    1     99      1      4  \n",
       "87  ...    1    0   20     1     0    14    1      1      1      4  \n",
       "88  ...    1    0   33     1     0    40    1      0      0      2  \n",
       "89  ...    0    1   19     1     0     5    1      1      1      3  \n",
       "90  ...    1    0   19     0     1     5    1      0      1      2  \n",
       "\n",
       "[91 rows x 36 columns]"
      ]
     },
     "execution_count": 9,
     "metadata": {},
     "output_type": "execute_result"
    }
   ],
   "source": [
    "df2.rename(columns = {\"time\":\"wastetime\"}).join(df)"
   ]
  },
  {
   "cell_type": "code",
   "execution_count": 10,
   "metadata": {},
   "outputs": [
    {
     "data": {
      "text/plain": [
       "sex\n",
       "0    3.026316\n",
       "1    3.415094\n",
       "Name: grade, dtype: float64"
      ]
     },
     "execution_count": 10,
     "metadata": {},
     "output_type": "execute_result"
    }
   ],
   "source": [
    "df.groupby(['sex'])['grade'].apply(np.mean)\n",
    "#This shows that men expect higher grades on average, which seems to be consistent with the research [Beyer1999]"
   ]
  },
  {
   "cell_type": "code",
   "execution_count": 11,
   "metadata": {},
   "outputs": [],
   "source": [
    "#time spent vs expected grade\n",
    "\n",
    "from scipy.stats import ttest_ind\n",
    "def time_grade(col, table1, table2):\n",
    "    stat, pval = ttest_ind(table1[col], table2[col])\n",
    "    return stat, pval\n",
    "\n"
   ]
  },
  {
   "cell_type": "code",
   "execution_count": 12,
   "metadata": {},
   "outputs": [],
   "source": [
    "# df.hist(column = ['time'], by = ['freq'])"
   ]
  },
  {
   "cell_type": "code",
   "execution_count": 16,
   "metadata": {},
   "outputs": [
    {
     "name": "stdout",
     "output_type": "stream",
     "text": [
      "1\n",
      "2\n",
      "only 0 occurences of D with nonzero time\n",
      "only 1 occurences of C with nonzero time\n",
      "doesn't make sense to ttest with only n = 1 sample size\n",
      "2\n",
      "3\n",
      "only 1 occurences of C with nonzero time\n",
      "only 17 occurences of B with nonzero time\n",
      "doesn't make sense to ttest with only n = 1 sample size\n",
      "2\n",
      "4\n",
      "only 1 occurences of C with nonzero time\n",
      "only 16 occurences of A with nonzero time\n",
      "doesn't make sense to ttest with only n = 1 sample size\n",
      "3\n",
      "4\n",
      "only 17 occurences of B with nonzero time\n",
      "only 16 occurences of A with nonzero time\n",
      "0.2526754538103368\n"
     ]
    }
   ],
   "source": [
    "grades = {1:'D', 2:'C', 3:'B', 4:'A'}\n",
    "for tup in [(1,2),(2, 3), (2, 4), (3, 4)]:\n",
    "    grade_1 = tup[0]\n",
    "    grade_2 = tup[1]\n",
    "    print(grade_1)\n",
    "    print(grade_2)\n",
    "    df1 = df[(df.time != 0) & (df.grade == grade_1)]\n",
    "    occ1 = len(df1)\n",
    "    print(\"only \" + str(occ1) + \" occurences of \" + grades[grade_1] + \" with nonzero time\")\n",
    "    df2 = df[(df.time != 0) & (df.grade == grade_2)]\n",
    "    occ2 = len(df2)\n",
    "    print(\"only \" + str(occ2) + \" occurences of \" + grades[grade_2] + \" with nonzero time\")\n",
    "    if occ1 > 1:\n",
    "        stat, p = ttest_ind(df1['time'], df2['time'])\n",
    "        print(p)\n",
    "    else:\n",
    "        print(\"doesn't make sense to ttest with only n = 1 sample size\")"
   ]
  },
  {
   "cell_type": "code",
   "execution_count": 20,
   "metadata": {},
   "outputs": [
    {
     "data": {
      "text/plain": [
       "8"
      ]
     },
     "execution_count": 20,
     "metadata": {},
     "output_type": "execute_result"
    }
   ],
   "source": [
    "sum(df.grade == 2)"
   ]
  },
  {
   "cell_type": "markdown",
   "metadata": {},
   "source": [
    "# Theory"
   ]
  },
  {
   "cell_type": "markdown",
   "metadata": {},
   "source": [
    "# References"
   ]
  },
  {
   "cell_type": "markdown",
   "metadata": {},
   "source": [
    "# Contributions\n",
    "\n",
    "- Kasen Teoh\n",
    "- Chung En Pan\n",
    "- Nathan Fallahi\n",
    "- Shaheen Daneshvar\n",
    "- Parsa Ganjooi\n",
    "- Eamon Jarrett-Mann"
   ]
  },
  {
   "cell_type": "code",
   "execution_count": null,
   "metadata": {},
   "outputs": [],
   "source": []
  }
 ],
 "metadata": {
  "hide_input": false,
  "kernelspec": {
   "display_name": "Python 3",
   "language": "python",
   "name": "python3"
  },
  "language_info": {
   "codemirror_mode": {
    "name": "ipython",
    "version": 3
   },
   "file_extension": ".py",
   "mimetype": "text/x-python",
   "name": "python",
   "nbconvert_exporter": "python",
   "pygments_lexer": "ipython3",
   "version": "3.7.2"
  }
 },
 "nbformat": 4,
 "nbformat_minor": 2
}
